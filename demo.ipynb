{
 "cells": [
  {
   "cell_type": "code",
   "execution_count": 1,
   "id": "c17de1dc",
   "metadata": {},
   "outputs": [],
   "source": [
    "# Libraries Used\n",
    "import csv\n",
    "import json\n",
    "from selenium import webdriver\n",
    "from selenium.webdriver.chrome.service import Service\n",
    "from selenium.webdriver.chrome.options import Options\n",
    "from selenium.webdriver.common.by import By\n",
    "from selenium.webdriver.support.ui import WebDriverWait\n",
    "from selenium.webdriver.support import expected_conditions as EC\n",
    "from webdriver_manager.chrome import ChromeDriverManager\n",
    "from bs4 import BeautifulSoup"
   ]
  },
  {
   "cell_type": "code",
   "execution_count": 2,
   "id": "5e0b7431",
   "metadata": {},
   "outputs": [
    {
     "name": "stdout",
     "output_type": "stream",
     "text": [
      "Setting up webdriver...\n",
      "done setting up..\n"
     ]
    }
   ],
   "source": [
    "# Step 1 - Configuration and Data Fetching\n",
    "# Setup Selenium and WebDriver\n",
    "print(\"Setting up webdriver...\")\n",
    "chrome_option = Options()\n",
    "chrome_option.add_argument('--headless')\n",
    "chrome_option.add_argument('--disable-gpu')\n",
    "chrome_option.add_argument(\n",
    "    \"user-agent=Mozilla/5.0 (Windows NT 10.0; Win64; x64) AppleWebKit/537.36 (KHTML, like Gecko) Chrome/131.0.6778.265 Safari/537.36\"\n",
    ")\n",
    "print(\"done setting up..\")"
   ]
  },
  {
   "cell_type": "code",
   "execution_count": 3,
   "id": "a46106e4",
   "metadata": {},
   "outputs": [
    {
     "name": "stdout",
     "output_type": "stream",
     "text": [
      "Installing Chrome WD\n",
      "Final Setup\n",
      "Done\n"
     ]
    }
   ],
   "source": [
    "# Install the chrome driver (This is a one time thing)\n",
    "print(\"Installing Chrome WD\")\n",
    "service = Service(ChromeDriverManager().install())\n",
    "print(\"Final Setup\")\n",
    "driver = webdriver.Chrome(service=service, options=chrome_option)\n",
    "print(\"Done\")"
   ]
  },
  {
   "cell_type": "code",
   "execution_count": 4,
   "id": "86533905",
   "metadata": {},
   "outputs": [
    {
     "name": "stdout",
     "output_type": "stream",
     "text": [
      "Visting https://www.glasses.com/gl-us/eyeglasses page\n"
     ]
    }
   ],
   "source": [
    "# Make connection and get URL content\n",
    "url = \"https://www.glasses.com/gl-us/eyeglasses\"\n",
    "print(f\"Visting {url} page\")\n",
    "driver.get(url)\n"
   ]
  },
  {
   "cell_type": "code",
   "execution_count": 5,
   "id": "aab3892f",
   "metadata": {},
   "outputs": [
    {
     "name": "stdout",
     "output_type": "stream",
     "text": [
      "Waiting for product tiles to load\n",
      "Done...Proceed to parse the data\n"
     ]
    }
   ],
   "source": [
    "# Further instruction: wait for JS to load the files\n",
    "try:\n",
    "    print(\"Waiting for product tiles to load\")\n",
    "    WebDriverWait(driver, 15).until(\n",
    "        EC.presence_of_element_located((By.CLASS_NAME, 'catalog-page'))\n",
    "    )\n",
    "    print(\"Done...Proceed to parse the data\")\n",
    "except (TimeoutError, Exception) as e:\n",
    "    print(f\"Error waiting for {url}: {e}\")\n",
    "    driver.quit()\n",
    "    print(\"Closed\")"
   ]
  },
  {
   "cell_type": "code",
   "execution_count": null,
   "id": "e2ca6c1c",
   "metadata": {},
   "outputs": [
    {
     "name": "stdout",
     "output_type": "stream",
     "text": [
      "Found 26 products\n"
     ]
    }
   ],
   "source": [
    "# Step 2 - Data Parsing and Extraction\n",
    "# Get page source and parse using BeautifulSoup\n",
    "content = driver.page_source\n",
    "page = BeautifulSoup(content, 'html.parser')\n",
    "\n",
    "# Temporary storage for the extracted data\n",
    "glasses_data = []\n",
    "\n",
    "# Locate all product tiles and extract the data for each product.\n",
    "product_tiles = page.find_all(\"a\", class_='product-tile')\n",
    "print(f\"Found {len(product_tiles)} products\")\n",
    "\n",
    "for tile in product_tiles:\n",
    "    product_info = tile.find('div', class_='product-info')\n",
    "\n",
    "    if product_info:\n",
    "        brand_tag = product_info.find('div', class_='product-brand')\n",
    "        brand = brand_tag.text if brand_tag else None # product brand\n",
    "\n",
    "        name_tag = product_info.find('div', class_='product-code')\n",
    "        name = name_tag.text if name_tag else None\n",
    "\n",
    "        # for price\n",
    "        price_cnt = product_info.find('div', class_='product-prices')\n",
    "        if price_cnt:\n",
    "            # Former Price\n",
    "            former_price_tag = price_cnt.find('div', class_='product-list-price')\n",
    "            former_price = former_price_tag.text if former_price_tag else None\n",
    "            # Current Price\n",
    "            current_price_tag = price_cnt.find('div', class_='product-offer-price')\n",
    "            current_price = current_price_tag.text if current_price_tag else None\n",
    "        else:\n",
    "            former_price = current_price = None\n",
    "    else:\n",
    "        brand = name = former_price = current_price = None \n",
    "        # Automatically applies missing value, if the product info is not available.\n",
    "    \n",
    "    discount_tag = tile.find('div', class_='product-badge discount-badge thirty')\n",
    "    discount = discount_tag.text if discount_tag else None\n",
    "\n",
    "            \n",
    "    data = {\n",
    "        'Brand': brand,\n",
    "        'Product_Name': name,\n",
    "        'Former_Price': former_price,\n",
    "        'Current_Price': current_price,\n",
    "        'Discount': discount\n",
    "    }\n",
    "    # Append data to the list\n",
    "    glasses_data.append(data)\n"
   ]
  },
  {
   "cell_type": "code",
   "execution_count": 7,
   "id": "d4d17d3a",
   "metadata": {},
   "outputs": [
    {
     "name": "stdout",
     "output_type": "stream",
     "text": [
      "Saved 26 records to CSV\n",
      "Saved 26 records to JSON\n",
      "End of Web Extraction\n"
     ]
    }
   ],
   "source": [
    "# Step 3 - Data Storage and Finalization\n",
    "# Save to CSV file\n",
    "column_name = glasses_data[0].keys() # get the column names\n",
    "with open('glassesdotcom_data.csv', mode='w', newline='', encoding='utf-8') as csv_file: # open up the file with context manager\n",
    "    dict_writer = csv.DictWriter(csv_file, fieldnames=column_name)\n",
    "    dict_writer.writeheader()\n",
    "    dict_writer.writerows(glasses_data)\n",
    "print(f\"Saved {len(glasses_data)} records to CSV\")\n",
    "\n",
    "# Save to JSON file\n",
    "with open(\"glassesdotcom.json\", mode='w') as json_file:\n",
    "    json.dump(glasses_data, json_file, indent=4)\n",
    "print(f\"Saved {len(glasses_data)} records to JSON\")\n",
    "\n",
    "# close the browser\n",
    "driver.quit()\n",
    "print(\"End of Web Extraction\")"
   ]
  }
 ],
 "metadata": {
  "kernelspec": {
   "display_name": "venv (3.13.5)",
   "language": "python",
   "name": "python3"
  },
  "language_info": {
   "codemirror_mode": {
    "name": "ipython",
    "version": 3
   },
   "file_extension": ".py",
   "mimetype": "text/x-python",
   "name": "python",
   "nbconvert_exporter": "python",
   "pygments_lexer": "ipython3",
   "version": "3.13.5"
  }
 },
 "nbformat": 4,
 "nbformat_minor": 5
}
