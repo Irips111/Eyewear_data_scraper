{
 "cells": [
  {
   "cell_type": "code",
   "execution_count": 1,
   "id": "5dde625f",
   "metadata": {},
   "outputs": [],
   "source": [
    "# Libraries Used\n",
    "import csv\n",
    "import json\n",
    "import requests\n",
    "from selenium import webdriver\n",
    "from selenium.webdriver.chrome.service import Service\n",
    "from selenium.webdriver.chrome.options import Options\n",
    "from selenium.webdriver.common.by import By\n",
    "from selenium.webdriver.support.ui import WebDriverWait\n",
    "from selenium.webdriver.support import expected_conditions as EC\n",
    "from webdriver_manager.chrome import ChromeDriverManager\n",
    "from bs4 import BeautifulSoup"
   ]
  },
  {
   "cell_type": "code",
   "execution_count": 2,
   "id": "c1653d90",
   "metadata": {},
   "outputs": [
    {
     "name": "stdout",
     "output_type": "stream",
     "text": [
      "<Response [200]>\n"
     ]
    }
   ],
   "source": [
    "# Test for response\n",
    "url = \"https://www.framesdirect.com/eyeglasses/\"\n",
    "r = requests.get(url)\n",
    "print(r)"
   ]
  },
  {
   "cell_type": "code",
   "execution_count": 3,
   "id": "48ebb4f7",
   "metadata": {},
   "outputs": [],
   "source": [
    "def clean_price(price_text):\n",
    "    if price_text:\n",
    "        return price_text.replace(\"$\", \"\").strip()\n",
    "    return None"
   ]
  },
  {
   "cell_type": "code",
   "execution_count": 4,
   "id": "e9377da4",
   "metadata": {},
   "outputs": [
    {
     "name": "stdout",
     "output_type": "stream",
     "text": [
      "Setting up webdriver...\n",
      "done setting up...\n"
     ]
    }
   ],
   "source": [
    "# Step 1 - Setup Selenium + WebDriver\n",
    "print(\"Setting up webdriver...\")\n",
    "chrome_option = Options()\n",
    "chrome_option.add_argument(\"--headless\")       # run without browser window\n",
    "chrome_option.add_argument(\"--disable-gpu\")    # needed for headless\n",
    "chrome_option.add_argument(\n",
    "    \"user-agent=Mozilla/5.0 (Windows NT 10.0; Win64; x64) \"\n",
    "    \"AppleWebKit/537.36 (KHTML, like Gecko) \"\n",
    "    \"Chrome/131.0.6778.265 Safari/537.36\"\n",
    ")\n",
    "print(\"done setting up...\")"
   ]
  },
  {
   "cell_type": "code",
   "execution_count": 5,
   "id": "1d16cf00",
   "metadata": {},
   "outputs": [
    {
     "name": "stdout",
     "output_type": "stream",
     "text": [
      "Installing Chrome WD\n",
      "Driver ready.\n"
     ]
    }
   ],
   "source": [
    "# Install the chrome driver\n",
    "print(\"Installing Chrome WD\")\n",
    "service = Service(ChromeDriverManager().install())\n",
    "driver = webdriver.Chrome(service=service, options=chrome_option)\n",
    "print(\"Driver ready.\")"
   ]
  },
  {
   "cell_type": "code",
   "execution_count": 6,
   "id": "0b0487b9",
   "metadata": {},
   "outputs": [
    {
     "name": "stdout",
     "output_type": "stream",
     "text": [
      "Visiting https://www.framesdirect.com/eyeglasses/\n"
     ]
    }
   ],
   "source": [
    "# Step 2 - Open FramesDirect Eyeglasses Page 1\n",
    "url = \"https://www.framesdirect.com/eyeglasses/\"\n",
    "print(f\"Visiting {url}\")\n",
    "driver.get(url)"
   ]
  },
  {
   "cell_type": "code",
   "execution_count": null,
   "id": "5c00eaf9",
   "metadata": {},
   "outputs": [
    {
     "name": "stdout",
     "output_type": "stream",
     "text": [
      "Waiting ...\n",
      "Products loaded.\n"
     ]
    }
   ],
   "source": [
    "# Step 3 - Wait for products to load\n",
    "try:\n",
    "    print(\"Waiting ...\")\n",
    "    WebDriverWait(driver, 15).until(\n",
    "        EC.presence_of_element_located((By.CLASS_NAME, \"fd-cat\"))\n",
    "    )\n",
    "    print(\"Products loaded.\")\n",
    "except Exception as e:\n",
    "    print(f\"Error waiting for {url}: {e}\")\n",
    "    driver.quit()\n",
    "    exit()"
   ]
  },
  {
   "cell_type": "code",
   "execution_count": 8,
   "id": "2588b416",
   "metadata": {},
   "outputs": [],
   "source": [
    "# Step 4 - Get page source and parse with BeautifulSoup\n",
    "soup = BeautifulSoup(driver.page_source, 'html.parser')"
   ]
  },
  {
   "cell_type": "code",
   "execution_count": null,
   "id": "93dfff1a",
   "metadata": {},
   "outputs": [
    {
     "name": "stdout",
     "output_type": "stream",
     "text": [
      "Found 25 products on page 1\n"
     ]
    }
   ],
   "source": [
    "# Step 5 - Extract product details\n",
    "frames_data = []\n",
    "\n",
    "# Each product card is inside div with class \"prod-holder\"\n",
    "product_cards = soup.find_all(\"div\", class_=\"prod-holder\")\n",
    "\n",
    "print(f\"Found {len(product_cards)} products on page 1\")\n",
    "\n",
    "for card in product_cards:\n",
    "    # Brand name\n",
    "    brand = card.find(\"div\", class_=\"catalog-name\")\n",
    "    brand = brand.text.strip() if brand else None\n",
    "\n",
    "    name = card.find(\"div\", class_=\"product-name\")\n",
    "    name = name.text.strip() if name else None\n",
    "    \n",
    "    # Product name\n",
    "    product_name = card.find(\"div\", class_=\"prod-model\")\n",
    "    product_name = product_name.text.strip() if product_name else None\n",
    "\n",
    "    # Former price\n",
    "    former_price = card.find(\"div\", class_=\"prod-catalog-retail-price\")\n",
    "    former_price = former_price.text.strip() if former_price else None\n",
    "\n",
    "    # Current price\n",
    "    current_price = card.find(\"div\", class_=\"prod-aslowas\")\n",
    "    current_price = current_price.text.strip() if current_price else None\n",
    "\n",
    "    # Discount\n",
    "    discount = card.find(\"div\", class_=\"frame-discount\")\n",
    "    discount = discount.text.strip() if discount else None\n",
    "\n",
    "    frames_data.append({\n",
    "        \"Brand\": brand,\n",
    "        \"Product_Name\": product_name,\n",
    "        \"Former_Price\": former_price,\n",
    "        \"Current_Price\": current_price,\n",
    "        \"Discount\": discount\n",
    "    })"
   ]
  },
  {
   "cell_type": "code",
   "execution_count": 10,
   "id": "f711bf1e",
   "metadata": {},
   "outputs": [
    {
     "name": "stdout",
     "output_type": "stream",
     "text": [
      "{'Brand': 'Ray-Ban', 'Product_Name': 'Ray-BanRB7047', 'Former_Price': None, 'Current_Price': '$176', 'Discount': ''}\n",
      "{'Brand': 'Oakley', 'Product_Name': 'OakleyPlank 2.0', 'Former_Price': None, 'Current_Price': '$187', 'Discount': ''}\n",
      "{'Brand': None, 'Product_Name': None, 'Former_Price': None, 'Current_Price': None, 'Discount': None}\n",
      "{'Brand': 'Oakley', 'Product_Name': 'OakleySocket 5.5', 'Former_Price': '', 'Current_Price': '$227', 'Discount': ''}\n",
      "{'Brand': 'Oakley', 'Product_Name': 'OakleyHolbrook RX', 'Former_Price': '', 'Current_Price': '$187', 'Discount': ''}\n",
      "{'Brand': 'Oakley', 'Product_Name': 'OakleyWheel House', 'Former_Price': None, 'Current_Price': '$242', 'Discount': ''}\n",
      "{'Brand': 'Ray-Ban', 'Product_Name': 'Ray-BanRB8908', 'Former_Price': None, 'Current_Price': '$276', 'Discount': ''}\n",
      "{'Brand': 'Ray-Ban', 'Product_Name': 'Ray-BanRB7229', 'Former_Price': '$222', 'Current_Price': '$155.40', 'Discount': '30% Off'}\n",
      "{'Brand': 'Oakley', 'Product_Name': 'OakleyPitchman R Carbon - Alternate Fit', 'Former_Price': None, 'Current_Price': '$297', 'Discount': ''}\n",
      "{'Brand': 'Ray-Ban', 'Product_Name': 'Ray-BanRB6645', 'Former_Price': None, 'Current_Price': '$210', 'Discount': ''}\n",
      "{'Brand': 'Ray-Ban', 'Product_Name': 'Ray-BanRB7260', 'Former_Price': None, 'Current_Price': '$210', 'Discount': ''}\n",
      "{'Brand': 'Ray-Ban', 'Product_Name': 'Ray-BanRB5154 Clubmaster', 'Former_Price': '', 'Current_Price': '$222', 'Discount': ''}\n",
      "{'Brand': 'Persol', 'Product_Name': 'PersolPO3189V', 'Former_Price': '$342', 'Current_Price': '$171', 'Discount': '50% Off'}\n",
      "{'Brand': 'Burberry', 'Product_Name': 'BurberryBE2315', 'Former_Price': '$266', 'Current_Price': '$133', 'Discount': '50% Off'}\n",
      "{'Brand': 'Persol', 'Product_Name': 'PersolPO3297V', 'Former_Price': '', 'Current_Price': '$342', 'Discount': ''}\n",
      "{'Brand': 'Versace', 'Product_Name': 'VersaceVE1285', 'Former_Price': '$300', 'Current_Price': '$210', 'Discount': '30% Off'}\n",
      "{'Brand': 'Gucci', 'Product_Name': 'GucciGG1340O', 'Former_Price': '$305', 'Current_Price': '$259.25', 'Discount': '15% Off'}\n",
      "{'Brand': 'Gucci', 'Product_Name': 'GucciGG1221O', 'Former_Price': '$605', 'Current_Price': '$514.25', 'Discount': '15% Off'}\n",
      "{'Brand': 'Kate Spade', 'Product_Name': 'Kate SpadeCharlee', 'Former_Price': '$245', 'Current_Price': '$171.50', 'Discount': '30% Off'}\n",
      "{'Brand': 'Kate Spade', 'Product_Name': 'Kate SpadeLucyann', 'Former_Price': '$230', 'Current_Price': '$161', 'Discount': '30% Off'}\n",
      "{'Brand': 'Burberry', 'Product_Name': 'BurberryBE2417', 'Former_Price': '$327', 'Current_Price': '$228.90', 'Discount': '30% Off'}\n",
      "{'Brand': 'Dolce & Gabbana', 'Product_Name': 'Dolce & GabbanaDG3415', 'Former_Price': '$335', 'Current_Price': '$234.50', 'Discount': '30% Off'}\n",
      "{'Brand': 'Versace', 'Product_Name': 'VersaceVE3373U', 'Former_Price': '$316', 'Current_Price': '$221.20', 'Discount': '30% Off'}\n",
      "{'Brand': 'RALPH by Ralph Lauren', 'Product_Name': 'RALPH by Ralph LaurenRA7158U', 'Former_Price': '$141', 'Current_Price': '$98.70', 'Discount': '30% Off'}\n",
      "{'Brand': 'Ray-Ban', 'Product_Name': 'Ray-BanRB7140', 'Former_Price': None, 'Current_Price': '$237', 'Discount': ''}\n"
     ]
    }
   ],
   "source": [
    "for item in frames_data:\n",
    "    print(item)"
   ]
  },
  {
   "cell_type": "code",
   "execution_count": 11,
   "id": "00b50583",
   "metadata": {},
   "outputs": [
    {
     "name": "stdout",
     "output_type": "stream",
     "text": [
      "Saved 25 records to framesdirect_page1.csv\n"
     ]
    }
   ],
   "source": [
    "# Step 6 - Save data to CSV\n",
    "if frames_data:\n",
    "    column_names = frames_data[0].keys()\n",
    "    with open(\"framesdirect_page1.csv\", \"w\", newline=\"\", encoding=\"utf-8\") as csv_file:\n",
    "        writer = csv.DictWriter(csv_file, fieldnames=column_names)\n",
    "        writer.writeheader()\n",
    "        writer.writerows(frames_data)\n",
    "    print(f\"Saved {len(frames_data)} records to framesdirect_page1.csv\")"
   ]
  },
  {
   "cell_type": "code",
   "execution_count": 12,
   "id": "21c6addb",
   "metadata": {},
   "outputs": [
    {
     "name": "stdout",
     "output_type": "stream",
     "text": [
      "Saved 25 records to framesdirect_page1.json\n"
     ]
    }
   ],
   "source": [
    "# Step 7 - Save data to JSON\n",
    "with open(\"framesdirect_page1.json\", \"w\", encoding=\"utf-8\") as json_file:\n",
    "    json.dump(frames_data, json_file, indent=4, ensure_ascii=False)\n",
    "print(f\"Saved {len(frames_data)} records to framesdirect_page1.json\")"
   ]
  },
  {
   "cell_type": "code",
   "execution_count": 13,
   "id": "b1012908",
   "metadata": {},
   "outputs": [
    {
     "name": "stdout",
     "output_type": "stream",
     "text": [
      "End of Web Extraction \n"
     ]
    }
   ],
   "source": [
    "# Step 8 - Close Browser\n",
    "driver.quit()\n",
    "print(\"End of Web Extraction \")"
   ]
  }
 ],
 "metadata": {
  "kernelspec": {
   "display_name": "venv (3.13.5)",
   "language": "python",
   "name": "python3"
  },
  "language_info": {
   "codemirror_mode": {
    "name": "ipython",
    "version": 3
   },
   "file_extension": ".py",
   "mimetype": "text/x-python",
   "name": "python",
   "nbconvert_exporter": "python",
   "pygments_lexer": "ipython3",
   "version": "3.13.5"
  }
 },
 "nbformat": 4,
 "nbformat_minor": 5
}
